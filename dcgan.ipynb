{
  "cells": [
    {
      "cell_type": "markdown",
      "metadata": {
        "id": "view-in-github",
        "colab_type": "text"
      },
      "source": [
        "<a href=\"https://colab.research.google.com/github/TheodorSergeev/optml_gan/blob/main/dcgan.ipynb\" target=\"_parent\"><img src=\"https://colab.research.google.com/assets/colab-badge.svg\" alt=\"Open In Colab\"/></a>"
      ]
    },
    {
      "cell_type": "markdown",
      "metadata": {
        "id": "3Fe1zK4TEn2P"
      },
      "source": [
        "Adapted from https://pytorch.org/tutorials/beginner/dcgan_faces_tutorial.html"
      ]
    },
    {
      "cell_type": "markdown",
      "metadata": {
        "id": "ElE3epO2FCLq"
      },
      "source": [
        "# Initialization"
      ]
    },
    {
      "cell_type": "code",
      "execution_count": 1,
      "metadata": {
        "colab": {
          "base_uri": "https://localhost:8080/"
        },
        "id": "vg1MBmvsdWEd",
        "outputId": "c41d7fd8-864c-441b-9798-e37a4cba930d"
      },
      "outputs": [
        {
          "output_type": "stream",
          "name": "stdout",
          "text": [
            "Mounted at /content/drive\n",
            "Looking in indexes: https://pypi.org/simple, https://us-python.pkg.dev/colab-wheels/public/simple/\n",
            "Requirement already satisfied: nbconvert in /usr/local/lib/python3.7/dist-packages (5.6.1)\n",
            "Requirement already satisfied: mistune<2,>=0.8.1 in /usr/local/lib/python3.7/dist-packages (from nbconvert) (0.8.4)\n",
            "Requirement already satisfied: traitlets>=4.2 in /usr/local/lib/python3.7/dist-packages (from nbconvert) (5.1.1)\n",
            "Requirement already satisfied: testpath in /usr/local/lib/python3.7/dist-packages (from nbconvert) (0.6.0)\n",
            "Requirement already satisfied: pygments in /usr/local/lib/python3.7/dist-packages (from nbconvert) (2.6.1)\n",
            "Requirement already satisfied: entrypoints>=0.2.2 in /usr/local/lib/python3.7/dist-packages (from nbconvert) (0.4)\n",
            "Requirement already satisfied: pandocfilters>=1.4.1 in /usr/local/lib/python3.7/dist-packages (from nbconvert) (1.5.0)\n",
            "Requirement already satisfied: jupyter-core in /usr/local/lib/python3.7/dist-packages (from nbconvert) (4.10.0)\n",
            "Requirement already satisfied: bleach in /usr/local/lib/python3.7/dist-packages (from nbconvert) (5.0.0)\n",
            "Requirement already satisfied: jinja2>=2.4 in /usr/local/lib/python3.7/dist-packages (from nbconvert) (2.11.3)\n",
            "Requirement already satisfied: nbformat>=4.4 in /usr/local/lib/python3.7/dist-packages (from nbconvert) (5.4.0)\n",
            "Requirement already satisfied: defusedxml in /usr/local/lib/python3.7/dist-packages (from nbconvert) (0.7.1)\n",
            "Requirement already satisfied: MarkupSafe>=0.23 in /usr/local/lib/python3.7/dist-packages (from jinja2>=2.4->nbconvert) (2.0.1)\n",
            "Requirement already satisfied: fastjsonschema in /usr/local/lib/python3.7/dist-packages (from nbformat>=4.4->nbconvert) (2.15.3)\n",
            "Requirement already satisfied: jsonschema>=2.6 in /usr/local/lib/python3.7/dist-packages (from nbformat>=4.4->nbconvert) (4.3.3)\n",
            "Requirement already satisfied: attrs>=17.4.0 in /usr/local/lib/python3.7/dist-packages (from jsonschema>=2.6->nbformat>=4.4->nbconvert) (21.4.0)\n",
            "Requirement already satisfied: importlib-metadata in /usr/local/lib/python3.7/dist-packages (from jsonschema>=2.6->nbformat>=4.4->nbconvert) (4.11.4)\n",
            "Requirement already satisfied: importlib-resources>=1.4.0 in /usr/local/lib/python3.7/dist-packages (from jsonschema>=2.6->nbformat>=4.4->nbconvert) (5.7.1)\n",
            "Requirement already satisfied: typing-extensions in /usr/local/lib/python3.7/dist-packages (from jsonschema>=2.6->nbformat>=4.4->nbconvert) (4.2.0)\n",
            "Requirement already satisfied: pyrsistent!=0.17.0,!=0.17.1,!=0.17.2,>=0.14.0 in /usr/local/lib/python3.7/dist-packages (from jsonschema>=2.6->nbformat>=4.4->nbconvert) (0.18.1)\n",
            "Requirement already satisfied: zipp>=3.1.0 in /usr/local/lib/python3.7/dist-packages (from importlib-resources>=1.4.0->jsonschema>=2.6->nbformat>=4.4->nbconvert) (3.8.0)\n",
            "Requirement already satisfied: six>=1.9.0 in /usr/local/lib/python3.7/dist-packages (from bleach->nbconvert) (1.15.0)\n",
            "Requirement already satisfied: webencodings in /usr/local/lib/python3.7/dist-packages (from bleach->nbconvert) (0.5.1)\n",
            "Looking in indexes: https://pypi.org/simple, https://us-python.pkg.dev/colab-wheels/public/simple/\n",
            "Collecting pipreqs\n",
            "  Downloading pipreqs-0.4.11-py2.py3-none-any.whl (32 kB)\n",
            "Requirement already satisfied: docopt in /usr/local/lib/python3.7/dist-packages (from pipreqs) (0.6.2)\n",
            "Collecting yarg\n",
            "  Downloading yarg-0.1.9-py2.py3-none-any.whl (19 kB)\n",
            "Requirement already satisfied: requests in /usr/local/lib/python3.7/dist-packages (from yarg->pipreqs) (2.23.0)\n",
            "Requirement already satisfied: idna<3,>=2.5 in /usr/local/lib/python3.7/dist-packages (from requests->yarg->pipreqs) (2.10)\n",
            "Requirement already satisfied: urllib3!=1.25.0,!=1.25.1,<1.26,>=1.21.1 in /usr/local/lib/python3.7/dist-packages (from requests->yarg->pipreqs) (1.24.3)\n",
            "Requirement already satisfied: certifi>=2017.4.17 in /usr/local/lib/python3.7/dist-packages (from requests->yarg->pipreqs) (2022.5.18.1)\n",
            "Requirement already satisfied: chardet<4,>=3.0.2 in /usr/local/lib/python3.7/dist-packages (from requests->yarg->pipreqs) (3.0.4)\n",
            "Installing collected packages: yarg, pipreqs\n",
            "Successfully installed pipreqs-0.4.11 yarg-0.1.9\n",
            "Looking in indexes: https://pypi.org/simple, https://us-python.pkg.dev/colab-wheels/public/simple/\n",
            "Collecting pytorch-fid\n",
            "  Downloading pytorch-fid-0.2.1.tar.gz (14 kB)\n",
            "Requirement already satisfied: numpy in /usr/local/lib/python3.7/dist-packages (from pytorch-fid) (1.21.6)\n",
            "Requirement already satisfied: pillow in /usr/local/lib/python3.7/dist-packages (from pytorch-fid) (7.1.2)\n",
            "Requirement already satisfied: scipy in /usr/local/lib/python3.7/dist-packages (from pytorch-fid) (1.4.1)\n",
            "Requirement already satisfied: torch>=1.0.1 in /usr/local/lib/python3.7/dist-packages (from pytorch-fid) (1.11.0+cu113)\n",
            "Requirement already satisfied: torchvision>=0.2.2 in /usr/local/lib/python3.7/dist-packages (from pytorch-fid) (0.12.0+cu113)\n",
            "Requirement already satisfied: typing-extensions in /usr/local/lib/python3.7/dist-packages (from torch>=1.0.1->pytorch-fid) (4.2.0)\n",
            "Requirement already satisfied: requests in /usr/local/lib/python3.7/dist-packages (from torchvision>=0.2.2->pytorch-fid) (2.23.0)\n",
            "Requirement already satisfied: certifi>=2017.4.17 in /usr/local/lib/python3.7/dist-packages (from requests->torchvision>=0.2.2->pytorch-fid) (2022.5.18.1)\n",
            "Requirement already satisfied: urllib3!=1.25.0,!=1.25.1,<1.26,>=1.21.1 in /usr/local/lib/python3.7/dist-packages (from requests->torchvision>=0.2.2->pytorch-fid) (1.24.3)\n",
            "Requirement already satisfied: idna<3,>=2.5 in /usr/local/lib/python3.7/dist-packages (from requests->torchvision>=0.2.2->pytorch-fid) (2.10)\n",
            "Requirement already satisfied: chardet<4,>=3.0.2 in /usr/local/lib/python3.7/dist-packages (from requests->torchvision>=0.2.2->pytorch-fid) (3.0.4)\n",
            "Building wheels for collected packages: pytorch-fid\n",
            "  Building wheel for pytorch-fid (setup.py) ... \u001b[?25l\u001b[?25hdone\n",
            "  Created wheel for pytorch-fid: filename=pytorch_fid-0.2.1-py3-none-any.whl size=14835 sha256=7411f8df86f6127cfff75a29ecc9f08da519c7898adf674a691358e0437984fc\n",
            "  Stored in directory: /root/.cache/pip/wheels/24/ac/03/c5634775c8a64f702343ef5923278f8d3bb8c651debc4a6890\n",
            "Successfully built pytorch-fid\n",
            "Installing collected packages: pytorch-fid\n",
            "Successfully installed pytorch-fid-0.2.1\n",
            "/content/drive/My Drive/optml_gan2\n"
          ]
        }
      ],
      "source": [
        "try:\n",
        "    import google.colab\n",
        "    IN_COLAB = True\n",
        "except:\n",
        "    IN_COLAB = False\n",
        "\n",
        "if IN_COLAB:  \n",
        "    from google.colab import drive\n",
        "    drive.mount('/content/drive')\n",
        "\n",
        "    # packages to generate requirement.txt\n",
        "    %pip install nbconvert\n",
        "    %pip install pipreqs\n",
        "    # for Frechet inception distance\n",
        "    %pip install pytorch-fid\n",
        "\n",
        "    %cd drive/My Drive/optml_gan2\n",
        "    PATH = './' \n",
        "else:\n",
        "    PATH = './' "
      ]
    },
    {
      "cell_type": "code",
      "execution_count": 2,
      "metadata": {
        "id": "M50Mkga4EhNy"
      },
      "outputs": [],
      "source": [
        "from __future__ import print_function\n",
        "\n",
        "import argparse\n",
        "import os\n",
        "import random\n",
        "import time\n",
        "\n",
        "import torch\n",
        "import torch.nn as nn\n",
        "import torch.nn.parallel\n",
        "import torch.backends.cudnn as cudnn\n",
        "import torch.optim as optim\n",
        "import torch.utils.data\n",
        "\n",
        "import torchvision\n",
        "import torchvision.datasets as dset\n",
        "import torchvision.transforms as transforms\n",
        "import torchvision.utils as vutils\n",
        "\n",
        "import numpy as np\n",
        "import matplotlib.pyplot as plt\n",
        "import matplotlib.animation as animation\n",
        "from IPython.display import HTML\n",
        "from datetime import datetime\n",
        "import json\n",
        "import pickle\n",
        "from scipy import linalg\n",
        "from torch.nn.functional import adaptive_avg_pool2d\n",
        "%matplotlib inline"
      ]
    },
    {
      "cell_type": "markdown",
      "metadata": {
        "id": "KQY6pqVIgdUH"
      },
      "source": [
        "# Generate Requirements"
      ]
    },
    {
      "cell_type": "code",
      "execution_count": 3,
      "metadata": {
        "id": "YaRkKzQNgdUH"
      },
      "outputs": [],
      "source": [
        "# # converts notebook to .py file for pipreqs\n",
        "# !jupyter nbconvert --output-dir=\"./\" --to script dcgan.ipynb \n",
        "\n",
        "# # creates the requirement.txt file\n",
        "# !pipreqs --force\n",
        "# os.remove('./dcgan.py')  # deletes the .py file"
      ]
    },
    {
      "cell_type": "markdown",
      "metadata": {
        "id": "LqmZqleaEhN0"
      },
      "source": [
        "# Source code"
      ]
    },
    {
      "cell_type": "markdown",
      "metadata": {
        "id": "FDrLP1SExqZT"
      },
      "source": [
        "## Data handling"
      ]
    },
    {
      "cell_type": "code",
      "execution_count": 4,
      "metadata": {
        "id": "NP4dzAueOkhe"
      },
      "outputs": [],
      "source": [
        "# there are problems with downloading CelebA\n",
        "# see https://stackoverflow.com/questions/65528568/how-do-i-load-the-celeba-dataset-on-google-colab-using-torch-vision-without-ru\n",
        "\n",
        "def get_dataset(name, image_size, dataroot):\n",
        "    # torchvision dataset\n",
        "    dataset = None\n",
        "\n",
        "    # number of channels in the training images (3 for color, 1 for grayscale)\n",
        "    nc = None\n",
        "\n",
        "    if name == 'cifar10':\n",
        "        nc = 3\n",
        "\n",
        "        transform = transforms.Compose([\n",
        "            transforms.Resize(image_size),\n",
        "            transforms.CenterCrop(image_size),\n",
        "            transforms.ToTensor(),\n",
        "            transforms.Normalize((0.5, 0.5, 0.5), (0.5, 0.5, 0.5) # todo: Why do we use these means and stds ? \n",
        "        )])\n",
        "\n",
        "        dataset = torchvision.datasets.CIFAR10(dataroot, download=True, \n",
        "                                            train=True,  transform=transform)\n",
        "    elif name == 'mnist':\n",
        "        nc = 1\n",
        "\n",
        "        transform = transforms.Compose([\n",
        "            transforms.Resize(image_size),\n",
        "            transforms.CenterCrop(image_size),\n",
        "            transforms.ToTensor(),\n",
        "            transforms.Normalize((0.5), (0.5)) # todo: Why do we use these means and stds and not the mean and std of the dataset?\n",
        "        ])\n",
        "\n",
        "        dataset = torchvision.datasets.MNIST(dataroot, download=True, \n",
        "                                            train=True,  transform=transform)\n",
        "    else:\n",
        "        raise ValueError(\"Unknown dataset name\")\n",
        "    \n",
        "    return dataset, nc"
      ]
    },
    {
      "cell_type": "code",
      "execution_count": 5,
      "metadata": {
        "id": "J0M-_II2wgTC"
      },
      "outputs": [],
      "source": [
        "def plot_img(dataloader, dataset_name):\n",
        "    # Plot some training images\n",
        "    real_batch = next(iter(dataloader))\n",
        "    plt.figure(figsize=(8,8))\n",
        "    plt.axis(\"off\")\n",
        "    plt.title(\"Training Images\")\n",
        "    plt.imshow(np.transpose(vutils.make_grid(real_batch[0].to(device)[:64], padding=2, normalize=True).cpu(),(1,2,0)))\n",
        "    plt.savefig(PATH + 'img/training_images_' + dataset_name, format=\"png\",dpi=400)\n",
        "    return"
      ]
    },
    {
      "cell_type": "markdown",
      "metadata": {
        "id": "q_qwUuFhj_k-"
      },
      "source": [
        "## Utils"
      ]
    },
    {
      "cell_type": "code",
      "execution_count": 6,
      "metadata": {
        "id": "i_55CgnekALb"
      },
      "outputs": [],
      "source": [
        "def count_parameters(model):\n",
        "    # from https://discuss.pytorch.org/t/how-do-i-check-the-number-of-parameters-of-a-model/4325/9\n",
        "    return sum(p.numel() for p in model.parameters() if p.requires_grad)"
      ]
    },
    {
      "cell_type": "code",
      "execution_count": 7,
      "metadata": {
        "id": "CsfVQNlYKPb2"
      },
      "outputs": [],
      "source": [
        "# Paths to load and save the models\n",
        "\n",
        "def generate_paths(PATH, extra_word, loss_name, lrD, lrG, beta1, iter_dis, iter_gen, grad_penalty_coef,create_dir):\n",
        "\n",
        "    param_str = loss_name + 'Loss_'  + 'lrd' + str(lrD) + '_lrg' + str(lrG) + '_b1' +  'b' + str(beta1)  \n",
        "    param_str = param_str + '_itd' + str(iter_dis) + '_itg' + str(iter_gen) +'_gpv' + str(grad_penalty_coef) + '_'\n",
        "\n",
        "    experiment_path = PATH + \"generated_data/\" + extra_word + param_str  + str(datetime.date(datetime.now())).replace('-', '_') + \"_\"\n",
        "    \n",
        "    models_path = experiment_path + '/models/'\n",
        "\n",
        "    stats_path = experiment_path + '/stat.pickle'\n",
        "    if create_dir:\n",
        "        os.makedirs(models_path, exist_ok=True)\n",
        "        os.makedirs(experiment_path, exist_ok=True)\n",
        "    return experiment_path, stats_path, models_path\n",
        "\n",
        "def model_paths(experiment_path, epoch, models_path):\n",
        "  \n",
        "    model_name_G = 'model_G_' + str(epoch)\n",
        "    save_path_G = models_path + model_name_G\n",
        "\n",
        "    model_name_D = 'model_D_'+str(epoch)\n",
        "    save_path_D = models_path + model_name_D\n",
        "\n",
        "    return save_path_G, save_path_D"
      ]
    },
    {
      "cell_type": "code",
      "execution_count": 8,
      "metadata": {
        "id": "fjmOi-Q1sHJB"
      },
      "outputs": [],
      "source": [
        "def set_seeds(manualSeed = 123):\n",
        "    # Set random seed for reproducibility\n",
        "\n",
        "    #manualSeed = random.randint(1, 10000) # use if you want new results\n",
        "    print(\"Random Seed: \", manualSeed)\n",
        "    random.seed(manualSeed)\n",
        "    torch.manual_seed(manualSeed)\n",
        "    return"
      ]
    },
    {
      "cell_type": "markdown",
      "metadata": {
        "id": "0UNmOJSYEhN1"
      },
      "source": [
        "## Model"
      ]
    },
    {
      "cell_type": "code",
      "execution_count": 9,
      "metadata": {
        "id": "bjjgdB2YEhN2"
      },
      "outputs": [],
      "source": [
        "# custom weights initialization called on netG and netD\n",
        "def weights_init(m):\n",
        "    classname = m.__class__.__name__\n",
        "    if classname.find('Conv') != -1:\n",
        "        nn.init.normal_(m.weight.data, 0.0, 0.02)\n",
        "    elif classname.find('BatchNorm') != -1:\n",
        "        nn.init.normal_(m.weight.data, 1.0, 0.02)\n",
        "        nn.init.constant_(m.bias.data, 0)"
      ]
    },
    {
      "cell_type": "code",
      "execution_count": 10,
      "metadata": {
        "id": "Sa42nmjtEhN4"
      },
      "outputs": [],
      "source": [
        "def init_net(model, device):\n",
        "    # Create the generator\n",
        "    net = model.to(device)\n",
        "\n",
        "    # Handle multi-gpu if desired\n",
        "    if (device.type == 'cuda') and (ngpu > 1):\n",
        "        net = nn.DataParallel(net, list(range(ngpu)))\n",
        "\n",
        "    # Apply the weights_init function to randomly initialize all weights\n",
        "    #  to mean=0, stdev=0.02.\n",
        "    #net.apply(weights_init)\n",
        "\n",
        "    # Print the model\n",
        "    print(net)\n",
        "    return net"
      ]
    },
    {
      "cell_type": "markdown",
      "metadata": {
        "id": "OAhsK2LyUnb_"
      },
      "source": [
        "## Losses"
      ]
    },
    {
      "cell_type": "code",
      "execution_count": 11,
      "metadata": {
        "id": "YUeIrmkvUqV0"
      },
      "outputs": [],
      "source": [
        "# stability constant\n",
        "EPS = 1e-15\n",
        "\n",
        "\n",
        "# KL-divergence\n",
        "def loss_gen_kl(dis_output, eps=EPS):\n",
        "    return - torch.log(dis_output + eps).mean() \n",
        "\n",
        "def loss_dis_kl(dis_output_real, dis_output_fake, eps=EPS):\n",
        "    return - (torch.log(dis_output_real + eps)).mean() - (torch.log(1. - dis_output_fake + eps)).mean()\n",
        "\n",
        "\n",
        "# Wasserstein distance\n",
        "# Requires special output of the network + weight clipping / grad penalty\n",
        "def loss_gen_wasser(dis_output, eps=EPS):\n",
        "    return - dis_output.mean()\n",
        "\n",
        "def loss_dis_wasser(dis_output_real, dis_output_fake, eps=EPS):\n",
        "    return - (dis_output_real.mean() - dis_output_fake.mean())\n",
        "\n",
        "\n",
        "# Hinge loss\n",
        "def loss_gen_hinge(dis_output, eps=EPS):\n",
        "    return - dis_output.mean()\n",
        "\n",
        "def loss_dis_hinge(dis_output_real, dis_output_fake, eps=EPS):\n",
        "    return torch.nn.ReLU()(1.0 - dis_output_real).mean() + torch.nn.ReLU()(1.0 + dis_output_fake).mean()\n",
        "\n",
        "\n",
        "loss_dict = {\n",
        "    \"kl\"    : (loss_dis_kl, loss_gen_kl),\n",
        "    \"wass\"  : (loss_dis_wasser, loss_gen_wasser),\n",
        "    \"hinge\" : (loss_dis_hinge, loss_gen_hinge)\n",
        "}"
      ]
    },
    {
      "cell_type": "markdown",
      "metadata": {
        "id": "Pwd6NVO7zoze"
      },
      "source": [
        "## FID"
      ]
    },
    {
      "cell_type": "markdown",
      "metadata": {
        "id": "sJpwdqHN1lN-"
      },
      "source": [
        "https://www.kaggle.com/code/ibtesama/gan-in-pytorch-with-fid/notebook  \n",
        "https://github.com/mseitzer/pytorch-fid   \n",
        "currently uses the kaggle stuff since calculating FID on the repo is run from commandline"
      ]
    },
    {
      "cell_type": "code",
      "execution_count": 12,
      "metadata": {
        "id": "YxtQ5pk4z_0M"
      },
      "outputs": [],
      "source": [
        "class InceptionV3(nn.Module):\n",
        "    \"\"\"Pretrained InceptionV3 network returning feature maps\"\"\"\n",
        "\n",
        "    # Index of default block of inception to return,\n",
        "    # corresponds to output of final average pooling\n",
        "    DEFAULT_BLOCK_INDEX = 3\n",
        "\n",
        "    # Maps feature dimensionality to their output blocks indices\n",
        "    BLOCK_INDEX_BY_DIM = {\n",
        "        64: 0,   # First max pooling features\n",
        "        192: 1,  # Second max pooling featurs\n",
        "        768: 2,  # Pre-aux classifier features\n",
        "        2048: 3  # Final average pooling features\n",
        "    }\n",
        "\n",
        "    def __init__(self,\n",
        "                 output_blocks=[DEFAULT_BLOCK_INDEX],\n",
        "                 resize_input=True,\n",
        "                 normalize_input=True,\n",
        "                 requires_grad=False):\n",
        "        \n",
        "        super(InceptionV3, self).__init__()\n",
        "\n",
        "        self.resize_input = resize_input\n",
        "        self.normalize_input = normalize_input\n",
        "        self.output_blocks = sorted(output_blocks)\n",
        "        self.last_needed_block = max(output_blocks)\n",
        "\n",
        "        assert self.last_needed_block <= 3, \\\n",
        "            'Last possible output block index is 3'\n",
        "\n",
        "        self.blocks = nn.ModuleList()\n",
        "\n",
        "        \n",
        "        inception = models.inception_v3(pretrained=True)\n",
        "\n",
        "        # Block 0: input to maxpool1\n",
        "        block0 = [\n",
        "            inception.Conv2d_1a_3x3,\n",
        "            inception.Conv2d_2a_3x3,\n",
        "            inception.Conv2d_2b_3x3,\n",
        "            nn.MaxPool2d(kernel_size=3, stride=2)\n",
        "        ]\n",
        "        self.blocks.append(nn.Sequential(*block0))\n",
        "\n",
        "        # Block 1: maxpool1 to maxpool2\n",
        "        if self.last_needed_block >= 1:\n",
        "            block1 = [\n",
        "                inception.Conv2d_3b_1x1,\n",
        "                inception.Conv2d_4a_3x3,\n",
        "                nn.MaxPool2d(kernel_size=3, stride=2)\n",
        "            ]\n",
        "            self.blocks.append(nn.Sequential(*block1))\n",
        "\n",
        "        # Block 2: maxpool2 to aux classifier\n",
        "        if self.last_needed_block >= 2:\n",
        "            block2 = [\n",
        "                inception.Mixed_5b,\n",
        "                inception.Mixed_5c,\n",
        "                inception.Mixed_5d,\n",
        "                inception.Mixed_6a,\n",
        "                inception.Mixed_6b,\n",
        "                inception.Mixed_6c,\n",
        "                inception.Mixed_6d,\n",
        "                inception.Mixed_6e,\n",
        "            ]\n",
        "            self.blocks.append(nn.Sequential(*block2))\n",
        "\n",
        "        # Block 3: aux classifier to final avgpool\n",
        "        if self.last_needed_block >= 3:\n",
        "            block3 = [\n",
        "                inception.Mixed_7a,\n",
        "                inception.Mixed_7b,\n",
        "                inception.Mixed_7c,\n",
        "                nn.AdaptiveAvgPool2d(output_size=(1, 1))\n",
        "            ]\n",
        "            self.blocks.append(nn.Sequential(*block3))\n",
        "\n",
        "        for param in self.parameters():\n",
        "            param.requires_grad = requires_grad\n",
        "\n",
        "    def forward(self, inp):\n",
        "        \"\"\"Get Inception feature maps\n",
        "        Parameters\n",
        "        ----------\n",
        "        inp : torch.autograd.Variable\n",
        "            Input tensor of shape Bx3xHxW. Values are expected to be in\n",
        "            range (0, 1)\n",
        "        Returns\n",
        "        -------\n",
        "        List of torch.autograd.Variable, corresponding to the selected output\n",
        "        block, sorted ascending by index\n",
        "        \"\"\"\n",
        "        outp = []\n",
        "        x = inp\n",
        "\n",
        "        if self.resize_input:\n",
        "            x = F.interpolate(x,\n",
        "                              size=(299, 299),\n",
        "                              mode='bilinear',\n",
        "                              align_corners=False)\n",
        "\n",
        "        if self.normalize_input:\n",
        "            x = 2 * x - 1  # Scale from range (0, 1) to range (-1, 1)\n",
        "\n",
        "        for idx, block in enumerate(self.blocks):\n",
        "            x = block(x)\n",
        "            if idx in self.output_blocks:\n",
        "                outp.append(x)\n",
        "\n",
        "            if idx == self.last_needed_block:\n",
        "                break\n",
        "\n",
        "        return outp\n",
        "import torchvision.models as models"
      ]
    },
    {
      "cell_type": "code",
      "execution_count": 13,
      "metadata": {
        "id": "fIkLqEY-zpQm"
      },
      "outputs": [],
      "source": [
        "def calculate_activation_statistics(images,inception_model,batch_size=128, dims=2048,\n",
        "                    cuda=False):\n",
        "    inception_model.eval()\n",
        "    act=np.empty((len(images), dims))\n",
        "    \n",
        "    if cuda:\n",
        "        batch=images.cuda()\n",
        "    else:\n",
        "        batch=images\n",
        "\n",
        "    pred = inception_model(batch)[0]\n",
        "\n",
        "        # If model output is not scalar, apply global spatial average pooling.\n",
        "        # This happens if you choose a dimensionality not equal 2048.\n",
        "    if pred.size(2) != 1 or pred.size(3) != 1:\n",
        "        pred = adaptive_avg_pool2d(pred, output_size=(1, 1))\n",
        "\n",
        "    act= pred.cpu().data.numpy().reshape(pred.size(0), -1)\n",
        "    \n",
        "    mu = np.mean(act, axis=0)\n",
        "    sigma = np.cov(act, rowvar=False)\n",
        "    return mu, sigma"
      ]
    },
    {
      "cell_type": "code",
      "execution_count": 14,
      "metadata": {
        "id": "heCyV4qHzu3D"
      },
      "outputs": [],
      "source": [
        "def calculate_frechet_distance(mu1, sigma1, mu2, sigma2, eps=1e-6):\n",
        "    \"\"\"Numpy implementation of the Frechet Distance.\n",
        "    The Frechet distance between two multivariate Gaussians X_1 ~ N(mu_1, C_1)\n",
        "    and X_2 ~ N(mu_2, C_2) is\n",
        "            d^2 = ||mu_1 - mu_2||^2 + Tr(C_1 + C_2 - 2*sqrt(C_1*C_2)).\n",
        "    \"\"\"\n",
        "\n",
        "    mu1 = np.atleast_1d(mu1)\n",
        "    mu2 = np.atleast_1d(mu2)\n",
        "\n",
        "    sigma1 = np.atleast_2d(sigma1)\n",
        "    sigma2 = np.atleast_2d(sigma2)\n",
        "\n",
        "    assert mu1.shape == mu2.shape, \\\n",
        "        'Training and test mean vectors have different lengths'\n",
        "    assert sigma1.shape == sigma2.shape, \\\n",
        "        'Training and test covariances have different dimensions'\n",
        "\n",
        "    diff = mu1 - mu2\n",
        "\n",
        "    \n",
        "    covmean, _ = linalg.sqrtm(sigma1.dot(sigma2), disp=False)\n",
        "    if not np.isfinite(covmean).all():\n",
        "        msg = ('fid calculation produces singular product; '\n",
        "               'adding %s to diagonal of cov estimates') % eps\n",
        "        print(msg)\n",
        "        offset = np.eye(sigma1.shape[0]) * eps\n",
        "        covmean = linalg.sqrtm((sigma1 + offset).dot(sigma2 + offset))\n",
        "\n",
        "    \n",
        "    if np.iscomplexobj(covmean):\n",
        "        if not np.allclose(np.diagonal(covmean).imag, 0, atol=1e-3):\n",
        "            m = np.max(np.abs(covmean.imag))\n",
        "            raise ValueError('Imaginary component {}'.format(m))\n",
        "        covmean = covmean.real\n",
        "\n",
        "    tr_covmean = np.trace(covmean)\n",
        "\n",
        "    return (diff.dot(diff) + np.trace(sigma1) +\n",
        "            np.trace(sigma2) - 2 * tr_covmean)"
      ]
    },
    {
      "cell_type": "code",
      "execution_count": 15,
      "metadata": {
        "id": "uBzRjX6Bzu06"
      },
      "outputs": [],
      "source": [
        "def calculate_frechet(images_real,images_fake,model):\n",
        "     mu_1,std_1=calculate_activation_statistics(images_real,model,cuda=True)\n",
        "     mu_2,std_2=calculate_activation_statistics(images_fake,model,cuda=True)\n",
        "    \n",
        "     \"\"\"get fretchet distance\"\"\"\n",
        "     fid_value = calculate_frechet_distance(mu_1, std_1, mu_2, std_2)\n",
        "     return fid_value"
      ]
    },
    {
      "cell_type": "markdown",
      "metadata": {
        "id": "FfjSFPjEyGg_"
      },
      "source": [
        "## Training"
      ]
    },
    {
      "cell_type": "code",
      "execution_count": 16,
      "metadata": {
        "id": "V0i7nSDwyFy9"
      },
      "outputs": [],
      "source": [
        "def init_optimizers(optimizer_name, netD, netG, lrD, lrG, beta1, nz, device, \n",
        "                    momentumD, momentumG):\n",
        "    # Create batch of latent vectors that we will use to visualize\n",
        "    #  the progression of the generator\n",
        "    fixed_noise = torch.randn(64, nz, 1, 1, device=device)\n",
        "\n",
        "    # todo: outdated now\n",
        "    # Establish convention for real and fake labels during training\n",
        "    real_label = 1.\n",
        "    fake_label = 0.\n",
        "     \n",
        "    if optimizer_name =='adam': \n",
        "        # Setup Adam optimizers for both G and D\n",
        "        optimizerD = optim.Adam(netD.parameters(), lr=lrD, betas=(beta1, 0.999))\n",
        "        optimizerG = optim.Adam(netG.parameters(), lr=lrG, betas=(beta1, 0.999))\n",
        "    if optimizer_name =='sgd':\n",
        "        optimizerD = optim.SGD(netD.parameters(), lr=lrD, momentum=momentumD, dampening=0, weight_decay=0)\n",
        "        optimizerG = optim.SGD(netG.parameters(), lr=lrG, momentum=momentumG, dampening=0, weight_decay=0)\n",
        "    if optimizer_name =='rmsprop':\n",
        "        optimizerD = optim.RMSprop(netD.parameters(), lr=lrD, alpha=0.99, eps=1e-08, weight_decay=0, momentum=0, centered=False)\n",
        "        optimizerG = optim.RMSprop(netG.parameters(), lr=lrG, alpha=0.99, eps=1e-08, weight_decay=0, momentum=0, centered=False)\n",
        "       \n",
        "    return fixed_noise, real_label, fake_label, optimizerD, optimizerG\n",
        "\n",
        "def init_losses(loss_type):\n",
        "    if loss_type not in loss_dict.keys():\n",
        "        raise Exception(\"Unknown loss type\")\n",
        "\n",
        "    return loss_dict[loss_type]"
      ]
    },
    {
      "cell_type": "code",
      "execution_count": 17,
      "metadata": {
        "id": "2DyNJjV7IQif"
      },
      "outputs": [],
      "source": [
        "from torch.autograd import Variable\n",
        "\n",
        "def gradient_penalty(device, discriminator, data_gen, data_real, lambda_reg=0.1):\n",
        "    alpha = torch.rand(data_real.shape[0], 1).to(device)\n",
        "    dims_to_add = len(data_real.size()) - 2\n",
        "    for i in range(dims_to_add):\n",
        "        alpha = alpha.unsqueeze(-1)\n",
        "\n",
        "    interpolates = (alpha * data_real + ((1. - alpha) * data_gen)).to(device)\n",
        "\n",
        "    interpolates = Variable(interpolates, requires_grad=True)\n",
        "\n",
        "    disc_interpolates = discriminator(interpolates)\n",
        "    grad_outputs = torch.ones(disc_interpolates.size()).to(device)\n",
        "\n",
        "    gradients = torch.autograd.grad(\n",
        "        outputs=disc_interpolates, inputs=interpolates, grad_outputs=grad_outputs,\n",
        "        create_graph=True, retain_graph=True, only_inputs=True\n",
        "    )[0]\n",
        "\n",
        "    grad_penalty_coef = ((gradients.norm(2, dim=1) - 1) ** 2).mean() * lambda_reg\n",
        "\n",
        "    return grad_penalty_coef"
      ]
    },
    {
      "cell_type": "code",
      "execution_count": 18,
      "metadata": {
        "id": "ktvJ-tAULJuc"
      },
      "outputs": [],
      "source": [
        "def discriminator_step(optimizerD, f_loss_dis, netD, netG, data, device, real_label, fake_label, gp_coef):\n",
        "    netD.zero_grad()\n",
        "\n",
        "    real_cpu = data[0].to(device)\n",
        "    b_size = real_cpu.size(0)\n",
        "    label = torch.full((b_size,), real_label, dtype=torch.float, device=device)\n",
        "    output_real = netD(real_cpu).view(-1)\n",
        "\n",
        "    noise = torch.randn(b_size, nz, 1, 1, device=device)\n",
        "    fake = netG(noise)\n",
        "    label.fill_(fake_label)\n",
        "    output_fake = netD(fake.detach()).view(-1)\n",
        "\n",
        "    errD = f_loss_dis(output_real, output_fake)\n",
        "\n",
        "    if gp_coef != 0.0:\n",
        "        errD += gp_coef * gradient_penalty(device, netD, fake, real_cpu)\n",
        "\n",
        "    errD.backward()\n",
        "    optimizerD.step()\n",
        "\n",
        "    D_x = output_real.mean().item()\n",
        "    D_G_z1 = output_fake.mean().item()\n",
        "\n",
        "    return D_x, D_G_z1, errD, label, fake, real_cpu\n",
        "\n",
        "\n",
        "def generator_step(optimizerG, f_loss_gen, netD, netG, label, fake, real_label):\n",
        "    netG.zero_grad()\n",
        "    output = netD(fake).view(-1)\n",
        "    \n",
        "    errG = f_loss_gen(output)\n",
        "    errG.backward()\n",
        "    \n",
        "    D_G_z2 = output.mean().item()\n",
        "\n",
        "    optimizerG.step()\n",
        "    return D_G_z2, errG"
      ]
    },
    {
      "cell_type": "code",
      "execution_count": 19,
      "metadata": {
        "id": "ezKphnm8gdUP"
      },
      "outputs": [],
      "source": [
        "class Training:\n",
        "    def __init__(self, loss_name, netD, netG, device, real_label, fake_label, dataloader, num_epochs,\n",
        "                 fixed_noise, lrD, lrG, beta1, experiment_prefix, save_models, \n",
        "                 PATH, save_stats, create_dir, iter_per_epoch_dis, iter_per_epoch_gen, grad_penalty_coef,\n",
        "                 optimizerD, optimizerG,\n",
        "                 save_epochs=50):\n",
        "        self.optimizerD, self.optimizerG = optimizerD, optimizerG\n",
        "\n",
        "        self.loss_name = loss_name\n",
        "        self.netD, self.netG = netD, netG\n",
        "        self.device = device\n",
        "        self.real_label, self.fake_label = real_label, fake_label\n",
        "        self.dataloader = dataloader\n",
        "        self.num_epochs = num_epochs\n",
        "        self.fixed_noise = fixed_noise\n",
        "        self.iter_per_epoch_dis, self.iter_per_epoch_gen = iter_per_epoch_dis, iter_per_epoch_gen\n",
        "        self.grad_penalty_coef = grad_penalty_coef\n",
        "\n",
        "        self.save_models = save_models\n",
        "        self.PATH = PATH\n",
        "        self.experiment_prefix = experiment_prefix\n",
        "        self.loss_name = loss_name\n",
        "        self.lrD = lrD\n",
        "        self.lrG = lrG\n",
        "        self.beta1 = beta1\n",
        "        self.create_dir = create_dir\n",
        "        self.save_stats = save_stats\n",
        "        self.save_epochs = save_epochs\n",
        "        self.experiment_path, self.stats_path, self.models_path = generate_paths(self.PATH, self.experiment_prefix, \n",
        "                                                          self.loss_name, self.lrD, self.lrG, \n",
        "                                                          self.beta1, self.iter_per_epoch_dis, self.iter_per_epoch_gen, \n",
        "                                                          self.grad_penalty_coef, self.create_dir)\n",
        "        \n",
        "        \n",
        "        \n",
        "\n",
        "        # self.inception_model = inception_model\n",
        "    def _output_training_stats(self, epoch, i, size, errD, errG, D_x, D_G_z1, D_G_z2, t0):\n",
        "        if i == size:\n",
        "            print('[%d/%d][%d/%d]\\tLoss_D: %.4f\\tLoss_G: %.4f\\tD(x): %.4f\\tD(G(z)): %.4f / %.4f t: %2.3f'\n",
        "                % (epoch, self.num_epochs, i, len(self.dataloader),\n",
        "                    errD, errG, D_x, D_G_z1, D_G_z2, time.time()-t0))\n",
        "        elif i % 50 == 0:\n",
        "            print('[%d/%d][%d/%d]\\tLoss_D: %.4f\\tLoss_G: %.4f\\tD(x): %.4f\\tD(G(z)): %.4f / %.4f'\n",
        "                % (epoch, self.num_epochs, i, len(self.dataloader),\n",
        "                    errD, errG, D_x, D_G_z1, D_G_z2))\n",
        "    \n",
        "    def _save_gen_output(self, iters, epoch, i):\n",
        "        if (iters % 500 == 0) or ((epoch == self.num_epochs-1) and (i == len(self.dataloader)-1)):\n",
        "            with torch.no_grad():\n",
        "                fake = self.netG(self.fixed_noise).detach().cpu()\n",
        "            self.img_list.append(vutils.make_grid(fake, padding=2, normalize=True))\n",
        "            # maybe remove this if we have memory problems\n",
        "            self.img_list_nogrid.append(fake)\n",
        "\n",
        "    def train(self):\n",
        "        f_loss_dis, f_loss_gen = init_losses(self.loss_name)\n",
        "\n",
        "        G_losses, D_losses = [], []\n",
        "        self.img_list = []\n",
        "        self.img_list_nogrid = []\n",
        "\n",
        "        iters = 0\n",
        "\n",
        "        print(\"Starting Training Loop...\")\n",
        "\n",
        "        D_x, D_G_z1, errD, label, fake = None, None, None, None, None\n",
        "        D_G_z2, errG = None, None\n",
        "\n",
        "        for epoch in range(self.num_epochs):\n",
        "            t0 = time.time()\n",
        "\n",
        "            \n",
        "\n",
        "            for i, data in enumerate(self.dataloader, 0):\n",
        "                for _ in range(self.iter_per_epoch_dis):\n",
        "                    D_x, D_G_z1, errD, label, fake, real_cpu = discriminator_step(self.optimizerD,\n",
        "                        f_loss_dis, self.netD, self.netG, data, self.device, \n",
        "                        self.real_label, self.fake_label, self.grad_penalty_coef\n",
        "                    )\n",
        "\n",
        "                for _ in range(self.iter_per_epoch_gen):\n",
        "                    D_G_z2, errG = generator_step(self.optimizerG,\n",
        "                        f_loss_gen, self.netD, self.netG, label, fake, self.real_label\n",
        "                    )\n",
        "                \n",
        "                # Save Losses for plotting later\n",
        "                G_losses.append(errG.item())\n",
        "                D_losses.append(errD.item())\n",
        "\n",
        "                size = len(self.dataloader) - 1\n",
        "                self._output_training_stats(epoch, i, size, errD.item(), errG.item(), D_x, D_G_z1, D_G_z2, t0)\n",
        "                \n",
        "                # Check how the generator is doing by saving G's output on fixed_noise\n",
        "                self._save_gen_output(iters, epoch, i)\n",
        "                \n",
        "                iters += 1\n",
        "\n",
        "            # save the model every self.save_epochs epochs\n",
        "            if self.save_models and (epoch%self.save_epochs == 0):\n",
        "                self.save_path_G, self.save_path_D = model_paths(self.experiment_path, epoch, self.models_path)\n",
        "                save_models(self.netG, self.netD, self.save_path_G, self.save_path_D)\n",
        "\n",
        "        stats = {\n",
        "            'img_list' : self.img_list,\n",
        "            'img_list_nogrid' : self.img_list_nogrid,\n",
        "            'G_losses' : G_losses,\n",
        "            'D_losses' : D_losses  \n",
        "        }\n",
        "        # save stats at the end of training\n",
        "        if self.save_stats:\n",
        "            pickle_save(stats, self.stats_path)\n",
        "\n",
        "        return stats"
      ]
    },
    {
      "cell_type": "markdown",
      "metadata": {
        "id": "76HIJHth6szw"
      },
      "source": [
        "## Visualization"
      ]
    },
    {
      "cell_type": "code",
      "execution_count": 20,
      "metadata": {
        "id": "ZDqpaE6i6uLu"
      },
      "outputs": [],
      "source": [
        "def plot_loss(G_losses, D_losses, save = False):\n",
        "    plt.figure(figsize=(10,5))\n",
        "    plt.title(\"Generator and Discriminator Loss During Training\")\n",
        "    plt.plot(G_losses, label=\"G\")\n",
        "    plt.plot(D_losses, label=\"D\")\n",
        "    plt.xlabel(\"iterations\")\n",
        "    plt.ylabel(\"Loss\")\n",
        "    plt.legend()\n",
        "\n",
        "    if save == True:\n",
        "      plt.savefig(PATH + 'img/loss', format=\"png\",dpi=400)\n",
        "\n",
        "    plt.show()\n",
        "    return"
      ]
    },
    {
      "cell_type": "code",
      "execution_count": 21,
      "metadata": {
        "id": "OMjT45Nw7BBf"
      },
      "outputs": [],
      "source": [
        "def plot_realvsfake(dataloader, device, img_list, save = False):\n",
        "    # Grab a batch of real images from the dataloader\n",
        "    real_batch = next(iter(dataloader))\n",
        "\n",
        "    # Plot the real images\n",
        "    plt.figure(figsize=(15,15))\n",
        "    plt.subplot(1,2,1)\n",
        "    plt.axis(\"off\")\n",
        "    plt.title(\"Real Images\")\n",
        "    plt.imshow(np.transpose(vutils.make_grid(real_batch[0].to(device)[:64], padding=5, normalize=True).cpu(),(1,2,0)))\n",
        "\n",
        "    # Plot the fake images from the last epoch\n",
        "    plt.subplot(1,2,2)\n",
        "    plt.axis(\"off\")\n",
        "    plt.title(\"Fake Images\")\n",
        "    plt.imshow(np.transpose(img_list[-1],(1,2,0)))\n",
        "    if save == True:\n",
        "        plt.savefig(PATH + 'img/real_vs_fake', format=\"png\",dpi=400)\n",
        "    plt.show()\n",
        "    return"
      ]
    },
    {
      "cell_type": "markdown",
      "metadata": {
        "id": "rFOlQTaL7ibw"
      },
      "source": [
        "## Serialization"
      ]
    },
    {
      "cell_type": "code",
      "execution_count": 22,
      "metadata": {
        "id": "x9OTjxEH7rg6"
      },
      "outputs": [],
      "source": [
        "def save_models(netG ,netD, save_path_G, save_path_D):\n",
        "    torch.save(netG.state_dict(), save_path_G)\n",
        "    torch.save(netD.state_dict(), save_path_D)\n",
        "    print('GAN saved')\n",
        "    return"
      ]
    },
    {
      "cell_type": "code",
      "execution_count": 23,
      "metadata": {
        "id": "TSCzFlDT7kE3"
      },
      "outputs": [],
      "source": [
        "def load_models(ngpu, Discriminator, Generator, save_path_G, save_path_D):\n",
        "  \n",
        "    netD = init_net(Discriminator(ngpu, nc, loss_name), device)\n",
        "    netD.load_state_dict(torch.load(save_path_D))\n",
        "    netD.eval()\n",
        "\n",
        "    netG = init_net(Generator(ngpu, nc, nz), device)\n",
        "    netG.load_state_dict(torch.load(save_path_G))\n",
        "    netG.eval()\n",
        "    \n",
        "    print('GAN loaded')\n",
        "    return netD, netG"
      ]
    },
    {
      "cell_type": "code",
      "execution_count": 24,
      "metadata": {
        "id": "ukW6LisRmoxO"
      },
      "outputs": [],
      "source": [
        "def save_dict(dict, dict_path):\n",
        "    with open(dict_path, 'w') as file:\n",
        "        file.write(json.dumps(dict))  \n",
        "    return\n",
        "\n",
        "def read_dict(dict_path):\n",
        "    with open(dict_path) as f:\n",
        "        data = f.read()\n",
        "    data = json.loads(data)\n",
        "    return data\n",
        "\n",
        "def pickle_save(something, path):\n",
        "    with open(path, 'wb') as handle:\n",
        "        pickle.dump(something, handle, protocol=pickle.HIGHEST_PROTOCOL)\n",
        "\n",
        "def pickle_load (path):\n",
        "    with open(path, 'rb') as handle:\n",
        "        something = pickle.load(handle)\n",
        "    return something"
      ]
    },
    {
      "cell_type": "markdown",
      "metadata": {
        "id": "0cjD_s6dFNzL"
      },
      "source": [
        "## Architectures"
      ]
    },
    {
      "cell_type": "markdown",
      "metadata": {
        "id": "YxcNcsuwIgYu"
      },
      "source": [
        "https://keras.io/examples/generative/conditional_gan/"
      ]
    },
    {
      "cell_type": "code",
      "execution_count": 25,
      "metadata": {
        "id": "BJcokCcO5E0d"
      },
      "outputs": [],
      "source": [
        "import torch.nn.functional as F\n",
        "\n",
        "\n",
        "class Generator(nn.Module):\n",
        "    def __init__(self, ngpu, nc, nz):\n",
        "        super(Generator, self).__init__()       \n",
        "        self.fc1 = nn.Linear(nz, 256)\n",
        "        self.fc2 = nn.Linear(self.fc1.out_features, self.fc1.out_features*2)\n",
        "        self.fc3 = nn.Linear(self.fc2.out_features, self.fc2.out_features*2)\n",
        "        self.fc4 = nn.Linear(self.fc3.out_features, nc * 28 * 28)\n",
        "        return    \n",
        "\n",
        "    # forward method\n",
        "    def forward(self, x): \n",
        "        x = x.reshape([x.shape[0], -1])\n",
        "\n",
        "        x = F.leaky_relu(self.fc1(x), 0.2)\n",
        "        x = F.leaky_relu(self.fc2(x), 0.2)\n",
        "        x = F.leaky_relu(self.fc3(x), 0.2)\n",
        "        x = torch.tanh(self.fc4(x))\n",
        "        x = x.reshape((-1, nc, 28, 28))\n",
        "        return x\n",
        "    \n",
        "\n",
        "class Discriminator(nn.Module):\n",
        "    def __init__(self, ngpu, nc, loss):\n",
        "        super(Discriminator, self).__init__()\n",
        "        self.fc1 = nn.Linear(28 * 28, 1024)\n",
        "        self.fc2 = nn.Linear(self.fc1.out_features, self.fc1.out_features//2)\n",
        "        self.fc3 = nn.Linear(self.fc2.out_features, self.fc2.out_features//2)\n",
        "\n",
        "        self.fc4 = nn.Linear(self.fc3.out_features, 1)\n",
        "\n",
        "        if loss == \"kl\":\n",
        "            # for KL - discriminator is a classifier\n",
        "            self.act = torch.sigmoid\n",
        "        else:\n",
        "            # for Wasserstein and hinge - discriminator is a critic\n",
        "            self.act = lambda x: x\n",
        "\n",
        "        return    \n",
        "\n",
        "    def forward(self, x):\n",
        "        x = x.reshape([x.shape[0], -1])\n",
        "        x = F.leaky_relu(self.fc1(x), 0.2)\n",
        "        x = F.dropout(x, 0.3)\n",
        "        x = F.leaky_relu(self.fc2(x), 0.2)\n",
        "        x = F.dropout(x, 0.3)\n",
        "        x = F.leaky_relu(self.fc3(x), 0.2)\n",
        "        x = F.dropout(x, 0.3)\n",
        "        x = self.act(self.fc4(x))\n",
        "        return x"
      ]
    },
    {
      "cell_type": "markdown",
      "metadata": {
        "id": "beMBvkIjFl7z"
      },
      "source": [
        "# Training example"
      ]
    },
    {
      "cell_type": "markdown",
      "metadata": {
        "id": "aSQF8-Mitrs2"
      },
      "source": [
        "## Parameters"
      ]
    },
    {
      "cell_type": "code",
      "execution_count": null,
      "metadata": {
        "id": "VeYrHwkRx-59"
      },
      "outputs": [],
      "source": [
        "# Root directory for dataset\n",
        "dataroot = PATH + \"data/\"\n",
        "\n",
        "# Dataset name\n",
        "dataset_name = 'mnist' # 'cifar10' or 'mnist'\n",
        "\n",
        "# Number of workers for dataloader\n",
        "workers = 2\n",
        "\n",
        "# Batch size during training\n",
        "batch_size = 128\n",
        "\n",
        "# Spatial size of training images. All images will be resized to this size using a transformer.\n",
        "image_size = 28 # 28 for mnist, 64 for others\n",
        "\n",
        "# Size of z latent vector (i.e. size of generator input)\n",
        "nz = 128\n",
        "\n",
        "# Number of GPUs available. Use 0 for CPU mode.\n",
        "ngpu = 1"
      ]
    },
    {
      "cell_type": "code",
      "execution_count": null,
      "metadata": {
        "id": "ROhmdtOztq8W"
      },
      "outputs": [],
      "source": [
        "# Number of training epochs\n",
        "num_epochs = 3\n",
        "\n",
        "# Learning rate for optimizers\n",
        "lrD = 2e-4\n",
        "lrG = 2e-4\n",
        "\n",
        "# Beta1 hyperparam for Adam optimizers\n",
        "beta1 = 0.9 # 0.9 == default"
      ]
    },
    {
      "cell_type": "code",
      "execution_count": null,
      "metadata": {
        "id": "uvDLoiTmyC8b"
      },
      "outputs": [],
      "source": [
        "dataset, nc = get_dataset(dataset_name, image_size, dataroot)\n",
        "\n",
        "# Create the dataloader\n",
        "dataloader = torch.utils.data.DataLoader(dataset, batch_size=batch_size,\n",
        "                                         shuffle=True, num_workers=workers)\n",
        "\n",
        "# Decide which device we want to run on\n",
        "device = torch.device(\"cuda:0\" if (torch.cuda.is_available() and ngpu > 0) else \"cpu\")\n",
        "\n",
        "#print(dataset)\n",
        "#plot_img(dataloader, dataset_name)"
      ]
    },
    {
      "cell_type": "code",
      "execution_count": null,
      "metadata": {
        "id": "D1rZFBRsvj-e"
      },
      "outputs": [],
      "source": [
        "loss_name = \"wass\" # wass, hinge\n",
        "iter_dis, iter_gen, grad_penalty_coef = 1, 1, 0.0\n",
        "\n",
        "if loss_name == \"wass\":\n",
        "    iter_dis, grad_penalty_coef = 5, 10.0\n",
        "\n",
        "netG = init_net(Generator(ngpu, nc, nz), device)\n",
        "print('Generator parameters', count_parameters(netG))\n",
        "\n",
        "netD = init_net(Discriminator(ngpu, nc, loss_name), device)\n",
        "print('Discriminator parameters', count_parameters(netD))"
      ]
    },
    {
      "cell_type": "markdown",
      "metadata": {
        "id": "w0wNXW77zD4b"
      },
      "source": [
        "## Run"
      ]
    },
    {
      "cell_type": "code",
      "execution_count": null,
      "metadata": {
        "id": "dJ-zyO5918Df"
      },
      "outputs": [],
      "source": [
        "fixed_noise, real_label, fake_label, optimizerD, optimizerG = init_optimizers(netD, netG, lrD, lrG, beta1, nz, device)\n",
        "experiment_prefix = '' # and extra word to add the automatically generate one if you really need it, ideally keep empty\n",
        "gan_training = Training(loss_name, netD, netG, device, real_label, fake_label, \n",
        "                        dataloader, num_epochs, fixed_noise, \n",
        "                        grad_penalty_coef, lrD, lrG, beta1, experiment_prefix, save_models, PATH, save_stats = True, create_dir=True,\n",
        "                        iter_per_epoch_dis=1, iter_per_epoch_gen=1, grad_penalty_coef=0.0)\n",
        "\n",
        "stats = gan_training.train()"
      ]
    },
    {
      "cell_type": "code",
      "execution_count": null,
      "metadata": {
        "id": "RhfcOvw-GTCX"
      },
      "outputs": [],
      "source": [
        "img_list = stats['img_list']\n",
        "G_losses = stats['G_losses']\n",
        "D_losses = stats['D_losses']"
      ]
    },
    {
      "cell_type": "markdown",
      "metadata": {
        "id": "-URPzv_TEhN7"
      },
      "source": [
        "# Visualization"
      ]
    },
    {
      "cell_type": "code",
      "execution_count": null,
      "metadata": {
        "id": "eQ9voI50JsfC"
      },
      "outputs": [],
      "source": [
        "plot_loss(G_losses, D_losses, save = False)"
      ]
    },
    {
      "cell_type": "code",
      "execution_count": null,
      "metadata": {
        "id": "WrhkQ1fwJrJa"
      },
      "outputs": [],
      "source": [
        "plot_realvsfake(dataloader, device, img_list, save = False)"
      ]
    },
    {
      "cell_type": "markdown",
      "metadata": {
        "id": "EA4p6YNOEhN7"
      },
      "source": [
        "## G’s progression\n",
        "\n"
      ]
    },
    {
      "cell_type": "code",
      "execution_count": null,
      "metadata": {
        "id": "rI3SO9R1EhN7"
      },
      "outputs": [],
      "source": [
        "#%%capture\n",
        "fig = plt.figure(figsize=(8,8))\n",
        "plt.axis(\"off\")\n",
        "ims = [[plt.imshow(np.transpose(i,(1,2,0)), animated=True)] for i in img_list]\n",
        "ani = animation.ArtistAnimation(fig, ims, interval=1000, repeat_delay=1000, blit=True)\n",
        "\n",
        "HTML(ani.to_jshtml())"
      ]
    },
    {
      "cell_type": "markdown",
      "metadata": {
        "id": "VaTJWVJPF1CQ"
      },
      "source": [
        "# Serialization"
      ]
    },
    {
      "cell_type": "code",
      "execution_count": null,
      "metadata": {
        "id": "TSHhTbJGBDMS"
      },
      "outputs": [],
      "source": [
        "epoch = 999999999\n",
        "experiment_prefix = 'tteeesst'\n",
        "experiment_path, stats_path, models_path = generate_paths(PATH, experiment_prefix, loss_name, lrD, lrG, beta1, iter_dis, iter_gen, grad_penalty_coef, create_dir=True)\n",
        "save_path_G, save_path_D = model_paths(experiment_path, epoch, models_path)\n",
        "\n",
        "print(experiment_path)\n",
        "print(stats_path)\n",
        "print(save_path_G)\n",
        "print(save_path_D)"
      ]
    },
    {
      "cell_type": "code",
      "execution_count": null,
      "metadata": {
        "id": "OObYCZyxmO2a"
      },
      "outputs": [],
      "source": [
        "save_models(netG ,netD, save_path_G, save_path_D)"
      ]
    },
    {
      "cell_type": "code",
      "execution_count": null,
      "metadata": {
        "id": "7nmoTYEInkMF"
      },
      "outputs": [],
      "source": [
        "pickle_save(stats, stats_path)"
      ]
    },
    {
      "cell_type": "code",
      "execution_count": null,
      "metadata": {
        "id": "6_MWpaCaKvxx"
      },
      "outputs": [],
      "source": [
        "# load model\n",
        "netD, netG = load_models(ngpu, Discriminator, Generator, save_path_G, save_path_D)\n",
        "\n",
        "stats = pickle_load(stats_path)"
      ]
    },
    {
      "cell_type": "markdown",
      "metadata": {
        "id": "M21gaXFb05x8"
      },
      "source": [
        "# Metrics"
      ]
    },
    {
      "cell_type": "code",
      "execution_count": null,
      "metadata": {
        "id": "cN_wInEf1trd"
      },
      "outputs": [],
      "source": [
        "def sample_gen(netG, nz, data):\n",
        "    with torch.no_grad():\n",
        "      real_cpu = data[0].to(device)\n",
        "      b_size = real_cpu.size(0)\n",
        "\n",
        "      noise = torch.randn(b_size, nz, 1, 1, device=device)\n",
        "      fake = netG(noise)\n",
        "    return real_cpu, fake"
      ]
    },
    {
      "cell_type": "code",
      "execution_count": null,
      "metadata": {
        "id": "xtDAYmuw04wd"
      },
      "outputs": [],
      "source": [
        "# Create the dataloader\n",
        "\n",
        "batch_size_eval = 100\n",
        "\n",
        "dataloader = torch.utils.data.DataLoader(dataset, batch_size=batch_size_eval,\n",
        "                                         shuffle=True, num_workers=workers)\n"
      ]
    },
    {
      "cell_type": "code",
      "execution_count": null,
      "metadata": {
        "id": "1ndW2gBr6dAm"
      },
      "outputs": [],
      "source": [
        "# Load inception model\n",
        "block_idx = InceptionV3.BLOCK_INDEX_BY_DIM[2048]\n",
        "inception_model = InceptionV3([block_idx])\n",
        "inception_model = inception_model.cuda()"
      ]
    },
    {
      "cell_type": "code",
      "execution_count": null,
      "metadata": {
        "id": "wG0cEgL71_6O"
      },
      "outputs": [],
      "source": [
        "# take first batch from the dataloader to get 500 samples :\n",
        "with torch.no_grad():\n",
        "    sample_batch = next(iter(dataloader))  \n",
        "\n",
        "    real_cpu, fake = sample_gen(netG, nz, sample_batch)\n",
        "\n",
        "    t_frechet = time.time()\n",
        "    frechet_dist = calculate_frechet(real_cpu, fake, inception_model) \n",
        "    print('frechet dist:', frechet_dist,'| time to calculate :',time.time()-t_frechet,'s')"
      ]
    },
    {
      "cell_type": "markdown",
      "metadata": {
        "id": "WpIukUkR5ny_"
      },
      "source": [
        "# Hyper-parameter optimization (gridsearch)"
      ]
    },
    {
      "cell_type": "code",
      "execution_count": 32,
      "metadata": {
        "id": "N7dlYcZspm9i"
      },
      "outputs": [],
      "source": [
        "def set_loss_params(loss_name):\n",
        "    \n",
        "    iter_dis, iter_gen, grad_penalty_coef = 1, 1, 0.0\n",
        "\n",
        "    if loss_name == \"wass\":\n",
        "        iter_dis, grad_penalty_coef = 5, 10.0\n",
        "\n",
        "    return iter_dis, iter_gen, grad_penalty_coef"
      ]
    },
    {
      "cell_type": "code",
      "execution_count": 39,
      "metadata": {
        "id": "9Nwk5FBy5nbU"
      },
      "outputs": [],
      "source": [
        "def run_experiment(ngpu, device, dataset, workers,\n",
        "                   batch_size, shuffle, num_epochs, plot, lrD, lrG, beta1, nz, \n",
        "                   loss_name, experiment_prefix, save_stats, create_dir, \n",
        "                   iter_per_epoch_dis, iter_per_epoch_gen, grad_penalty_coef, \n",
        "                   save_epochs, save_models, momentumD, momentumG, optimizer_name): \n",
        "\n",
        "\n",
        "    netG = init_net(Generator(ngpu, nc, nz), device)\n",
        "    netD = init_net(Discriminator(ngpu, nc, loss_name), device)\n",
        "    \n",
        "    # Create the dataloader\n",
        "    dataloader = torch.utils.data.DataLoader(dataset, batch_size=batch_size,\n",
        "                                            shuffle=True, num_workers=workers)\n",
        "     \n",
        "    fixed_noise, real_label, fake_label, optimizerD, optimizerG = init_optimizers(optimizer_name, netD, netG, lrD, lrG, beta1, nz, device, momentumD, momentumG)\n",
        "\n",
        "    experiment_prefix = experiment_prefix + optimizer_name +'_mG'+str(momentumD) +'_mD'+str(momentumG) + '_'\n",
        "\n",
        "    gan_training = Training(loss_name, netD, netG, device, real_label, fake_label, \n",
        "                            dataloader, num_epochs, fixed_noise, \n",
        "                            lrD, lrG, beta1, experiment_prefix, save_models, PATH, save_stats, create_dir,\n",
        "                            iter_per_epoch_dis, iter_per_epoch_gen, grad_penalty_coef, optimizerD, optimizerG, save_epochs=save_epochs)\n",
        "\n",
        "    stats = gan_training.train()\n",
        "    \n",
        "    if plot:\n",
        "        plot_loss(G_losses, D_losses, save = False)\n",
        "        plot_realvsfake(dataloader, device, img_list, save = False)\n",
        "    \n",
        "    return stats, dataloader, netG, netD"
      ]
    },
    {
      "cell_type": "code",
      "execution_count": 40,
      "metadata": {
        "id": "QbgPKxI2Jzfq"
      },
      "outputs": [],
      "source": [
        "def grid_search(ngpu, device, dataset, workers, \n",
        "                experiment_prefix, batch_size_list, shuffle_list, \n",
        "                num_epochs_list, loss_name_list, optimizer_name_list, \n",
        "                beta1_list, lr_list, momentums_list, plot, save_stats, create_dir\n",
        "                , save_epochs, save_models):\n",
        "\n",
        "    # all_stats = [] \n",
        "\n",
        "    for batch_size in batch_size_list:\n",
        "        for shuffle in shuffle_list:\n",
        "            for num_epochs in num_epochs_list:\n",
        "                for loss_name in loss_name_list:\n",
        "\n",
        "                    iter_per_epoch_dis, iter_per_epoch_gen, grad_penalty_coef = set_loss_params(loss_name)\n",
        "                    for optimizer_name in optimizer_name_list:\n",
        "                        for beta1 in beta1_list:\n",
        "                            for lr in lr_list:\n",
        "                                for (momentumD, momentumG) in momentums_list : \n",
        "                                    lrD = lr\n",
        "                                    lrG = lr\n",
        "                                    # set seed before every experiment\n",
        "                                    set_seeds(manualSeed = 123)\n",
        "\n",
        "                                    \n",
        "\n",
        "                                    print('====================PARAMETERS===================')\n",
        "                                    print('batch_size =', batch_size)\n",
        "                                    print('shuffle =', shuffle)\n",
        "                                    print('num_epoch =', num_epochs)\n",
        "                                    print('loss_name =', loss_name)\n",
        "                                    print('optimizer_name =', optimizer_name)\n",
        "                                    print('beta1 =', beta1)\n",
        "                                    print('lr =', lr)\n",
        "                                    print('iter_per_epoch_dis =', iter_per_epoch_dis)\n",
        "                                    print('iter_per_epoch_gen =', iter_per_epoch_gen)\n",
        "                                    print('grad_penalty_coef =', grad_penalty_coef)\n",
        "\n",
        "                                    stats, dataloader, netG, netD = run_experiment(ngpu, device, dataset, workers,\n",
        "                                                                                  batch_size, shuffle, num_epochs, plot, lrD, lrG, beta1, nz, \n",
        "                                                                                  loss_name, experiment_prefix, save_stats, create_dir, \n",
        "                                                                                  iter_per_epoch_dis, iter_per_epoch_gen, grad_penalty_coef, \n",
        "                                                                                  save_epochs, save_models, momentumD, momentumG, optimizer_name)\n",
        "\n",
        "    # all_stats.append(stats)\n",
        "    \n",
        "    return #all_stats"
      ]
    },
    {
      "cell_type": "code",
      "execution_count": 41,
      "metadata": {
        "id": "NTdcMZ4AtiVw"
      },
      "outputs": [],
      "source": [
        "# Root directory for dataset\n",
        "dataroot = PATH + \"data/\"\n",
        "\n",
        "# Dataset name\n",
        "dataset_name = 'mnist' # 'cifar10' or 'mnist'\n",
        "\n",
        "# Number of workers for dataloader\n",
        "workers = 2\n",
        "\n",
        "# Spatial size of training images. All images will be resized to this size using a transformer.\n",
        "image_size = 28 # 28 for mnist, 64 for others\n",
        "\n",
        "# Size of z latent vector (i.e. size of generator input)\n",
        "nz = 128\n",
        "\n",
        "# Number of GPUs available. Use 0 for CPU mode.\n",
        "ngpu = 1"
      ]
    },
    {
      "cell_type": "code",
      "execution_count": 42,
      "metadata": {
        "id": "DRqoAVcKtC05"
      },
      "outputs": [],
      "source": [
        "dataset, nc = get_dataset(dataset_name, image_size, dataroot)\n",
        "\n",
        "# Decide which device we want to run on\n",
        "device = torch.device(\"cuda:0\" if (torch.cuda.is_available() and ngpu > 0) else \"cpu\")"
      ]
    },
    {
      "cell_type": "code",
      "execution_count": 43,
      "metadata": {
        "colab": {
          "base_uri": "https://localhost:8080/"
        },
        "id": "UEmdQBI_LFcW",
        "outputId": "d59035f4-9ca4-4c49-86e4-8e269161d239"
      },
      "outputs": [
        {
          "output_type": "stream",
          "name": "stdout",
          "text": [
            "Random Seed:  123\n",
            "====================PARAMETERS===================\n",
            "batch_size = 128\n",
            "shuffle = True\n",
            "num_epoch = 1\n",
            "loss_name = wass\n",
            "optimizer_name = adam\n",
            "beta1 = 0.9\n",
            "lr = 0.001\n",
            "iter_per_epoch_dis = 5\n",
            "iter_per_epoch_gen = 1\n",
            "grad_penalty_coef = 10.0\n",
            "Generator(\n",
            "  (fc1): Linear(in_features=128, out_features=256, bias=True)\n",
            "  (fc2): Linear(in_features=256, out_features=512, bias=True)\n",
            "  (fc3): Linear(in_features=512, out_features=1024, bias=True)\n",
            "  (fc4): Linear(in_features=1024, out_features=784, bias=True)\n",
            ")\n",
            "Discriminator(\n",
            "  (fc1): Linear(in_features=784, out_features=1024, bias=True)\n",
            "  (fc2): Linear(in_features=1024, out_features=512, bias=True)\n",
            "  (fc3): Linear(in_features=512, out_features=256, bias=True)\n",
            "  (fc4): Linear(in_features=256, out_features=1, bias=True)\n",
            ")\n",
            "Starting Training Loop...\n",
            "[0/1][0/469]\tLoss_D: -30.3326\tLoss_G: 0.0927\tD(x): 31.1742\tD(G(z)): -0.0615 / -0.0927\n",
            "[0/1][50/469]\tLoss_D: -33241.1797\tLoss_G: 82735.5625\tD(x): -16029.5840\tD(G(z)): -82393.1875 / -82735.5625\n",
            "[0/1][100/469]\tLoss_D: -35032.0703\tLoss_G: 87263.0625\tD(x): -17154.4492\tD(G(z)): -86333.5781 / -87263.0625\n",
            "[0/1][150/469]\tLoss_D: -36481.3984\tLoss_G: 90000.0625\tD(x): -16688.9980\tD(G(z)): -88163.7344 / -90000.0625\n",
            "[0/1][200/469]\tLoss_D: -37074.9688\tLoss_G: 88565.7422\tD(x): -15659.5508\tD(G(z)): -90639.1562 / -88565.7422\n",
            "[0/1][250/469]\tLoss_D: -33962.8945\tLoss_G: 88016.6875\tD(x): -15607.0674\tD(G(z)): -86451.3594 / -88016.6875\n",
            "[0/1][300/469]\tLoss_D: -37858.1992\tLoss_G: 86775.0625\tD(x): -9244.2490\tD(G(z)): -83405.2656 / -86775.0625\n",
            "[0/1][350/469]\tLoss_D: -36073.3516\tLoss_G: 88711.2812\tD(x): -9687.6533\tD(G(z)): -85552.6250 / -88711.2812\n",
            "[0/1][400/469]\tLoss_D: -40568.6953\tLoss_G: 86972.2578\tD(x): -4918.3809\tD(G(z)): -86283.3984 / -86972.2578\n",
            "[0/1][450/469]\tLoss_D: -41499.4609\tLoss_G: 83797.3594\tD(x): -6306.7959\tD(G(z)): -87272.7969 / -83797.3594\n",
            "[0/1][468/469]\tLoss_D: -37039.4922\tLoss_G: 82103.6562\tD(x): -3269.5698\tD(G(z)): -82746.3438 / -82103.6562 t: 23.708\n",
            "GAN saved\n",
            "Random Seed:  123\n",
            "====================PARAMETERS===================\n",
            "batch_size = 128\n",
            "shuffle = True\n",
            "num_epoch = 1\n",
            "loss_name = wass\n",
            "optimizer_name = adam\n",
            "beta1 = 0.9\n",
            "lr = 0.0002\n",
            "iter_per_epoch_dis = 5\n",
            "iter_per_epoch_gen = 1\n",
            "grad_penalty_coef = 10.0\n",
            "Generator(\n",
            "  (fc1): Linear(in_features=128, out_features=256, bias=True)\n",
            "  (fc2): Linear(in_features=256, out_features=512, bias=True)\n",
            "  (fc3): Linear(in_features=512, out_features=1024, bias=True)\n",
            "  (fc4): Linear(in_features=1024, out_features=784, bias=True)\n",
            ")\n",
            "Discriminator(\n",
            "  (fc1): Linear(in_features=784, out_features=1024, bias=True)\n",
            "  (fc2): Linear(in_features=1024, out_features=512, bias=True)\n",
            "  (fc3): Linear(in_features=512, out_features=256, bias=True)\n",
            "  (fc4): Linear(in_features=256, out_features=1, bias=True)\n",
            ")\n",
            "Starting Training Loop...\n",
            "[0/1][0/469]\tLoss_D: -0.6065\tLoss_G: 0.0360\tD(x): 1.5640\tD(G(z)): -0.0355 / -0.0360\n",
            "[0/1][50/469]\tLoss_D: -2416.9163\tLoss_G: -5422.8252\tD(x): 8946.6240\tD(G(z)): 5643.6772 / 5422.8252\n",
            "[0/1][100/469]\tLoss_D: -30560.7891\tLoss_G: 75164.6406\tD(x): -14218.9062\tD(G(z)): -74455.2734 / -75164.6406\n",
            "[0/1][150/469]\tLoss_D: -5702.7744\tLoss_G: -15174.1396\tD(x): 30912.8477\tD(G(z)): 15972.5273 / 15174.1396\n",
            "[0/1][200/469]\tLoss_D: -9100.0938\tLoss_G: 20266.8770\tD(x): -4701.0967\tD(G(z)): -19766.5586 / -20266.8770\n",
            "[0/1][250/469]\tLoss_D: 1317.3293\tLoss_G: 1020.0715\tD(x): -1901.5862\tD(G(z)): -1346.4535 / -1020.0715\n",
            "[0/1][300/469]\tLoss_D: -3080.6436\tLoss_G: 23984.7695\tD(x): -14951.4277\tD(G(z)): -23390.2422 / -23984.7695\n",
            "[0/1][350/469]\tLoss_D: -1386.5674\tLoss_G: -6669.9316\tD(x): 9280.6475\tD(G(z)): 7271.8320 / 6669.9316\n",
            "[0/1][400/469]\tLoss_D: 841.0453\tLoss_G: -18728.7266\tD(x): 19281.9141\tD(G(z)): 18958.5664 / 18728.7266\n",
            "[0/1][450/469]\tLoss_D: -1355.6123\tLoss_G: 1526.1967\tD(x): 1068.4365\tD(G(z)): -1376.9849 / -1526.1967\n",
            "[0/1][468/469]\tLoss_D: -982.7379\tLoss_G: 5791.5859\tD(x): -4336.1494\tD(G(z)): -5922.4722 / -5791.5859 t: 21.834\n",
            "GAN saved\n",
            "Random Seed:  123\n",
            "====================PARAMETERS===================\n",
            "batch_size = 128\n",
            "shuffle = True\n",
            "num_epoch = 1\n",
            "loss_name = wass\n",
            "optimizer_name = sgd\n",
            "beta1 = 0.9\n",
            "lr = 0.001\n",
            "iter_per_epoch_dis = 5\n",
            "iter_per_epoch_gen = 1\n",
            "grad_penalty_coef = 10.0\n",
            "Generator(\n",
            "  (fc1): Linear(in_features=128, out_features=256, bias=True)\n",
            "  (fc2): Linear(in_features=256, out_features=512, bias=True)\n",
            "  (fc3): Linear(in_features=512, out_features=1024, bias=True)\n",
            "  (fc4): Linear(in_features=1024, out_features=784, bias=True)\n",
            ")\n",
            "Discriminator(\n",
            "  (fc1): Linear(in_features=784, out_features=1024, bias=True)\n",
            "  (fc2): Linear(in_features=1024, out_features=512, bias=True)\n",
            "  (fc3): Linear(in_features=512, out_features=256, bias=True)\n",
            "  (fc4): Linear(in_features=256, out_features=1, bias=True)\n",
            ")\n",
            "Starting Training Loop...\n",
            "[0/1][0/469]\tLoss_D: 0.9133\tLoss_G: 0.0371\tD(x): 0.0457\tD(G(z)): -0.0370 / -0.0371\n",
            "[0/1][50/469]\tLoss_D: nan\tLoss_G: nan\tD(x): nan\tD(G(z)): nan / nan\n",
            "[0/1][100/469]\tLoss_D: nan\tLoss_G: nan\tD(x): nan\tD(G(z)): nan / nan\n",
            "[0/1][150/469]\tLoss_D: nan\tLoss_G: nan\tD(x): nan\tD(G(z)): nan / nan\n",
            "[0/1][200/469]\tLoss_D: nan\tLoss_G: nan\tD(x): nan\tD(G(z)): nan / nan\n",
            "[0/1][250/469]\tLoss_D: nan\tLoss_G: nan\tD(x): nan\tD(G(z)): nan / nan\n",
            "[0/1][300/469]\tLoss_D: nan\tLoss_G: nan\tD(x): nan\tD(G(z)): nan / nan\n",
            "[0/1][350/469]\tLoss_D: nan\tLoss_G: nan\tD(x): nan\tD(G(z)): nan / nan\n",
            "[0/1][400/469]\tLoss_D: nan\tLoss_G: nan\tD(x): nan\tD(G(z)): nan / nan\n",
            "[0/1][450/469]\tLoss_D: nan\tLoss_G: nan\tD(x): nan\tD(G(z)): nan / nan\n",
            "[0/1][468/469]\tLoss_D: nan\tLoss_G: nan\tD(x): nan\tD(G(z)): nan / nan t: 19.980\n",
            "GAN saved\n",
            "Random Seed:  123\n",
            "====================PARAMETERS===================\n",
            "batch_size = 128\n",
            "shuffle = True\n",
            "num_epoch = 1\n",
            "loss_name = wass\n",
            "optimizer_name = sgd\n",
            "beta1 = 0.9\n",
            "lr = 0.0002\n",
            "iter_per_epoch_dis = 5\n",
            "iter_per_epoch_gen = 1\n",
            "grad_penalty_coef = 10.0\n",
            "Generator(\n",
            "  (fc1): Linear(in_features=128, out_features=256, bias=True)\n",
            "  (fc2): Linear(in_features=256, out_features=512, bias=True)\n",
            "  (fc3): Linear(in_features=512, out_features=1024, bias=True)\n",
            "  (fc4): Linear(in_features=1024, out_features=784, bias=True)\n",
            ")\n",
            "Discriminator(\n",
            "  (fc1): Linear(in_features=784, out_features=1024, bias=True)\n",
            "  (fc2): Linear(in_features=1024, out_features=512, bias=True)\n",
            "  (fc3): Linear(in_features=512, out_features=256, bias=True)\n",
            "  (fc4): Linear(in_features=256, out_features=1, bias=True)\n",
            ")\n",
            "Starting Training Loop...\n",
            "[0/1][0/469]\tLoss_D: 0.9320\tLoss_G: 0.0376\tD(x): 0.0266\tD(G(z)): -0.0374 / -0.0376\n",
            "[0/1][50/469]\tLoss_D: 0.5362\tLoss_G: 0.0305\tD(x): 0.4299\tD(G(z)): -0.0290 / -0.0305\n",
            "[0/1][100/469]\tLoss_D: -0.6776\tLoss_G: 0.0095\tD(x): 1.6599\tD(G(z)): -0.0088 / -0.0095\n",
            "[0/1][150/469]\tLoss_D: -15.4660\tLoss_G: -0.1246\tD(x): 16.5337\tD(G(z)): 0.1214 / 0.1246\n",
            "[0/1][200/469]\tLoss_D: -19223.0586\tLoss_G: -3333.7178\tD(x): 49561.7578\tD(G(z)): 10334.7734 / 3333.7178\n",
            "[0/1][250/469]\tLoss_D: -21717.8730\tLoss_G: -1389.8628\tD(x): 41138.1562\tD(G(z)): 257.9022 / 1389.8628\n",
            "[0/1][300/469]\tLoss_D: -18164.8867\tLoss_G: -2576.0527\tD(x): 80485.7031\tD(G(z)): 28137.5703 / 2576.0527\n",
            "[0/1][350/469]\tLoss_D: -43082.8516\tLoss_G: 69445.8750\tD(x): 17242.9023\tD(G(z)): -68325.7812 / -69445.8750\n",
            "[0/1][400/469]\tLoss_D: -45515.6523\tLoss_G: 72240.6641\tD(x): 19930.2305\tD(G(z)): -72369.9922 / -72240.6641\n",
            "[0/1][450/469]\tLoss_D: -44005.9883\tLoss_G: 72944.2344\tD(x): 17682.0039\tD(G(z)): -74217.6953 / -72944.2344\n",
            "[0/1][468/469]\tLoss_D: -45780.5742\tLoss_G: 67408.1250\tD(x): 16808.1387\tD(G(z)): -78958.3516 / -67408.1250 t: 20.173\n",
            "GAN saved\n",
            "Random Seed:  123\n",
            "====================PARAMETERS===================\n",
            "batch_size = 128\n",
            "shuffle = True\n",
            "num_epoch = 1\n",
            "loss_name = wass\n",
            "optimizer_name = rmsprop\n",
            "beta1 = 0.9\n",
            "lr = 0.001\n",
            "iter_per_epoch_dis = 5\n",
            "iter_per_epoch_gen = 1\n",
            "grad_penalty_coef = 10.0\n",
            "Generator(\n",
            "  (fc1): Linear(in_features=128, out_features=256, bias=True)\n",
            "  (fc2): Linear(in_features=256, out_features=512, bias=True)\n",
            "  (fc3): Linear(in_features=512, out_features=1024, bias=True)\n",
            "  (fc4): Linear(in_features=1024, out_features=784, bias=True)\n",
            ")\n",
            "Discriminator(\n",
            "  (fc1): Linear(in_features=784, out_features=1024, bias=True)\n",
            "  (fc2): Linear(in_features=1024, out_features=512, bias=True)\n",
            "  (fc3): Linear(in_features=512, out_features=256, bias=True)\n",
            "  (fc4): Linear(in_features=256, out_features=1, bias=True)\n",
            ")\n",
            "Starting Training Loop...\n",
            "[0/1][0/469]\tLoss_D: -29827.1934\tLoss_G: 41.6831\tD(x): 32646.5508\tD(G(z)): -13.9604 / -41.6831\n",
            "[0/1][50/469]\tLoss_D: -8929.0254\tLoss_G: 18857.4883\tD(x): 6076.8164\tD(G(z)): -13763.5508 / -18857.4883\n",
            "[0/1][100/469]\tLoss_D: -7865.1875\tLoss_G: 20155.3887\tD(x): -7807.4048\tD(G(z)): -22469.5430 / -20155.3887\n",
            "[0/1][150/469]\tLoss_D: -4110.2339\tLoss_G: -3733.4102\tD(x): 8144.2915\tD(G(z)): 871.2770 / 3733.4102\n",
            "[0/1][200/469]\tLoss_D: -3087.5959\tLoss_G: -2433.4575\tD(x): 7199.4658\tD(G(z)): 2267.0479 / 2433.4575\n",
            "[0/1][250/469]\tLoss_D: -1998.0193\tLoss_G: -258.4276\tD(x): 5090.7622\tD(G(z)): 832.1053 / 258.4276\n",
            "[0/1][300/469]\tLoss_D: -2643.6472\tLoss_G: 2550.8999\tD(x): 3434.8206\tD(G(z)): -2233.6521 / -2550.8999\n",
            "[0/1][350/469]\tLoss_D: -1977.8413\tLoss_G: 781.6339\tD(x): 5016.5439\tD(G(z)): 609.0284 / -781.6339\n",
            "[0/1][400/469]\tLoss_D: -4160.3428\tLoss_G: 1893.6567\tD(x): 4346.8350\tD(G(z)): -2368.2871 / -1893.6567\n",
            "[0/1][450/469]\tLoss_D: -3442.3281\tLoss_G: -848.2624\tD(x): 6698.7656\tD(G(z)): 799.8179 / 848.2624\n",
            "[0/1][468/469]\tLoss_D: -3775.5708\tLoss_G: 179.1335\tD(x): 8570.3340\tD(G(z)): 2105.6223 / -179.1335 t: 23.149\n",
            "GAN saved\n",
            "Random Seed:  123\n",
            "====================PARAMETERS===================\n",
            "batch_size = 128\n",
            "shuffle = True\n",
            "num_epoch = 1\n",
            "loss_name = wass\n",
            "optimizer_name = rmsprop\n",
            "beta1 = 0.9\n",
            "lr = 0.0002\n",
            "iter_per_epoch_dis = 5\n",
            "iter_per_epoch_gen = 1\n",
            "grad_penalty_coef = 10.0\n",
            "Generator(\n",
            "  (fc1): Linear(in_features=128, out_features=256, bias=True)\n",
            "  (fc2): Linear(in_features=256, out_features=512, bias=True)\n",
            "  (fc3): Linear(in_features=512, out_features=1024, bias=True)\n",
            "  (fc4): Linear(in_features=1024, out_features=784, bias=True)\n",
            ")\n",
            "Discriminator(\n",
            "  (fc1): Linear(in_features=784, out_features=1024, bias=True)\n",
            "  (fc2): Linear(in_features=1024, out_features=512, bias=True)\n",
            "  (fc3): Linear(in_features=512, out_features=256, bias=True)\n",
            "  (fc4): Linear(in_features=256, out_features=1, bias=True)\n",
            ")\n",
            "Starting Training Loop...\n",
            "[0/1][0/469]\tLoss_D: -242.7068\tLoss_G: 0.3212\tD(x): 242.9101\tD(G(z)): -0.1735 / -0.3212\n",
            "[0/1][50/469]\tLoss_D: 72.7828\tLoss_G: -539.8187\tD(x): 501.1243\tD(G(z)): 573.4819 / 539.8187\n",
            "[0/1][100/469]\tLoss_D: -206.6056\tLoss_G: -1691.1841\tD(x): 1946.3149\tD(G(z)): 1728.5732 / 1691.1841\n",
            "[0/1][150/469]\tLoss_D: -288.0300\tLoss_G: -1937.3345\tD(x): 2264.8853\tD(G(z)): 1890.8938 / 1937.3345\n",
            "[0/1][200/469]\tLoss_D: -174.7897\tLoss_G: -876.6996\tD(x): 1220.1467\tD(G(z)): 1017.5049 / 876.6996\n",
            "[0/1][250/469]\tLoss_D: -3132.4072\tLoss_G: 2071.2068\tD(x): 1863.6567\tD(G(z)): -1985.4503 / -2071.2068\n",
            "[0/1][300/469]\tLoss_D: -5434.9414\tLoss_G: 1326.6299\tD(x): 6780.1528\tD(G(z)): -1264.4741 / -1326.6299\n",
            "[0/1][350/469]\tLoss_D: -6931.1206\tLoss_G: 3828.4551\tD(x): 9649.0273\tD(G(z)): -3306.6680 / -3828.4551\n",
            "[0/1][400/469]\tLoss_D: -3425.8987\tLoss_G: -2028.2231\tD(x): 7715.3887\tD(G(z)): 1509.8759 / 2028.2231\n",
            "[0/1][450/469]\tLoss_D: -5238.3105\tLoss_G: 6175.1382\tD(x): 3947.5894\tD(G(z)): -6332.8545 / -6175.1382\n",
            "[0/1][468/469]\tLoss_D: -6026.1318\tLoss_G: 5729.1455\tD(x): 4632.2393\tD(G(z)): -6768.4995 / -5729.1455 t: 21.069\n",
            "GAN saved\n"
          ]
        }
      ],
      "source": [
        "grid_search(ngpu, device, dataset, workers,\n",
        "                        experiment_prefix = '', # and an extra word at the begining to the save path of the models and stats\n",
        "                        batch_size_list = [128],\n",
        "                        shuffle_list = [True],\n",
        "                        num_epochs_list = [150],\n",
        "                        loss_name_list = ['wass'], # wass, hinge\n",
        "                        optimizer_name_list = ['sgd'], # 'adam' 'sgd' 'rmsprop'\n",
        "                        beta1_list = [0.9], # 0.9 == default # Beta1 hyperparam for Adam optimizers\n",
        "                        lr_list = [1e-1, 1e-3, 1e-4, 1e-5, 1e-6], # [1,1e-3,2e-4,1e-5,1e-6]\n",
        "                        momentums_list = [(0,0)], # [(momentumD, momentumG)]\n",
        "                        plot = False,\n",
        "                        save_stats = True, # save the stats to disk\n",
        "                        create_dir = True, # create the directories to save files\n",
        "                        save_epochs = 2, # save the model every save_epochs epochs\n",
        "                        save_models = True # save the models to disk\n",
        "                        ) # grad_penalty_coef"
      ]
    }
  ],
  "metadata": {
    "colab": {
      "collapsed_sections": [],
      "name": "dcgan.ipynb",
      "provenance": [],
      "toc_visible": true,
      "include_colab_link": true
    },
    "gpuClass": "standard",
    "kernelspec": {
      "display_name": "Python 3.9.7 ('optml')",
      "language": "python",
      "name": "python3"
    },
    "language_info": {
      "codemirror_mode": {
        "name": "ipython",
        "version": 3
      },
      "file_extension": ".py",
      "mimetype": "text/x-python",
      "name": "python",
      "nbconvert_exporter": "python",
      "pygments_lexer": "ipython3",
      "version": "3.9.7"
    },
    "vscode": {
      "interpreter": {
        "hash": "53461a9fb59a29bcaa7e1cfe6b9fe9c30f7f07aae145e77433631c890399cf7b"
      }
    },
    "accelerator": "GPU"
  },
  "nbformat": 4,
  "nbformat_minor": 0
}